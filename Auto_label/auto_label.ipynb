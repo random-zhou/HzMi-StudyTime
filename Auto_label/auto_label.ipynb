{
 "cells": [
  {
   "cell_type": "markdown",
   "metadata": {},
   "source": [
    "## 扩充"
   ]
  },
  {
   "cell_type": "code",
   "execution_count": null,
   "metadata": {},
   "outputs": [],
   "source": [
    "import os\n",
    "import more_pircture\n",
    "\n",
    "img_input_path ='data_0418\\\\kitchen\\\\carrot'#原始图片\n",
    "ima_output_path ='data_0418\\\\kitchen\\\\carrot_more'#扩增图片\n",
    "\n",
    "\n",
    "if not os.path.exists(ima_output_path):  \n",
    "    os.makedirs(ima_output_path)\n",
    "\n",
    "#保证扩增图片文件夹里没有残留的图片\n",
    "files = [f for f in os.listdir(ima_output_path) if f.endswith('.jpg') or f.endswith('.png')]\n",
    "for i, image_file in enumerate(files):\n",
    "    os.remove(os.path.join(ima_output_path,image_file))\n",
    "    print(image_file,'被清理')\n",
    "\n",
    "          \n",
    "more_pircture.resize_images(img_input_path,ima_output_path)#放缩 1：11 有一张和原图一样大\n",
    "more_pircture.brightness(img_input_path,ima_output_path)#调节亮度1:4\n",
    "more_pircture.Histogram_averaging(img_input_path,ima_output_path)#调节对比度 1:2\n",
    "more_pircture.adjust_saturation(img_input_path,ima_output_path,1.5)#调节饱和度1:1\n",
    "more_pircture.Exponent(img_input_path,ima_output_path)#指数滤波   1:1 \n",
    "more_pircture.Logarithmic_filtering(img_input_path,ima_output_path)#对数滤波  1:1\n",
    "\n"
   ]
  },
  {
   "cell_type": "markdown",
   "metadata": {},
   "source": [
    "## 乱序"
   ]
  },
  {
   "cell_type": "code",
   "execution_count": null,
   "metadata": {},
   "outputs": [],
   "source": [
    "import Disorderly_order\n",
    "img_path='F:\\\\YOLOV5\\\\yolov5-master\\\\Auto_label\\\\initial_image\\\\other\\\\images\\\\train'\n",
    "label_path='F:\\\\YOLOV5\\\\yolov5-master\\\\Auto_label\\\\initial_image\\\\other\\\\labels\\\\train'\n",
    "Disorderly_order.Disorderly(img_path,label_path)\n"
   ]
  },
  {
   "cell_type": "markdown",
   "metadata": {},
   "source": [
    "## 对齐"
   ]
  },
  {
   "cell_type": "code",
   "execution_count": 2,
   "metadata": {},
   "outputs": [],
   "source": [
    "import alignment\n",
    "img_path='data_0418\\\\kitchen\\\\carrot_more'\n",
    "label_path='data_0418\\\\kitchen\\\\carrot_txt'\n",
    "alignment.alignment(img_path,label_path,cl_de=False)#cl_de=False不删除classes.txt"
   ]
  },
  {
   "cell_type": "markdown",
   "metadata": {},
   "source": [
    "## 修改txt文件中的class"
   ]
  },
  {
   "cell_type": "code",
   "execution_count": 4,
   "metadata": {},
   "outputs": [],
   "source": [
    "from change_class import change_class\n",
    "change_class(\"data_0418\\\\kitchen\\\\carrot_txt\",0)"
   ]
  },
  {
   "cell_type": "markdown",
   "metadata": {},
   "source": [
    "## 给子文件加上标志位(防止整合的重复)"
   ]
  },
  {
   "cell_type": "code",
   "execution_count": null,
   "metadata": {},
   "outputs": [],
   "source": [
    "from change_name import Change_name\n",
    "Change_name(0,\"data_0418\\\\kitchen\\\\carrot_more\",\"data_0418\\\\kitchen\\\\carrot_txt\")"
   ]
  },
  {
   "cell_type": "markdown",
   "metadata": {},
   "source": [
    "## 配置训练集"
   ]
  },
  {
   "cell_type": "code",
   "execution_count": 32,
   "metadata": {},
   "outputs": [
    {
     "name": "stdout",
     "output_type": "stream",
     "text": [
      "4c15fb93-5771-4b5a-9043-c55e2afde44c.jpg\n",
      "0160e9f1-9b81-43c1-b5ce-d749170edc02.jpg\n",
      "be0e04eb-fc5f-4208-8d87-080d1dc58cbb.jpg\n",
      "2f4c6d72-50d4-4b10-9fb8-a1dfa296434b.jpg\n"
     ]
    }
   ],
   "source": [
    "import shutil\n",
    "import random\n",
    "import os\n",
    "img_train_path='F:\\\\YOLOV5\\\\yolov5-master\\\\Auto_label\\\\initial_image\\\\kitchen\\\\images\\\\train'\n",
    "label_train_path='F:\\\\YOLOV5\\\\yolov5-master\\\\Auto_label\\\\initial_image\\\\kitchen\\\\labels\\\\train'\n",
    "\n",
    "img_val_path='F:\\\\YOLOV5\\\\yolov5-master\\\\Auto_label\\\\initial_image\\\\kitchen\\\\images\\\\val'\n",
    "label_val_path='F:\\\\YOLOV5\\\\yolov5-master\\\\Auto_label\\\\initial_image\\\\kitchen\\\\labels\\\\val'\n",
    "\n",
    "\n",
    "img_train=[f for f in os.listdir(img_train_path) if f.endswith('.jpg') or f.endswith('.png')]#图片训练集\n",
    "label_train=[f for f in os.listdir(label_train_path) if f.endswith('.txt')]#标签训练集\n",
    "if len(img_train)<=20:#抽20张当测试集\n",
    "    print(\"没有足够的数据集\")\n",
    "else:\n",
    "    for _ in range(4):\n",
    "        selected_file = random.choice(img_train)#随机抽一个图片\n",
    "        img_train.remove(selected_file)#从列表里删除\n",
    "        img_train_file=os.path.join(img_train_path,selected_file)\n",
    "        print(selected_file)\n",
    "        shutil.move(img_train_file,img_val_path)#从图片训练集里删除，并移动到测试集\n",
    "        image_name,_=os.path.splitext(selected_file)\n",
    "        label_train_file=os.path.join(label_train_path,image_name+'.txt')# 找到对应训练集集标签\n",
    "        shutil.move(label_train_file,label_val_path)\n"
   ]
  },
  {
   "cell_type": "markdown",
   "metadata": {},
   "source": [
    "## 整合"
   ]
  },
  {
   "cell_type": "code",
   "execution_count": 6,
   "metadata": {},
   "outputs": [],
   "source": [
    "from integration import integration\n",
    "integration()\n"
   ]
  },
  {
   "cell_type": "markdown",
   "metadata": {},
   "source": [
    "## 拆分文件夹"
   ]
  },
  {
   "cell_type": "code",
   "execution_count": null,
   "metadata": {},
   "outputs": [],
   "source": [
    "from split import split\n",
    "split(5,'initial_image\\\\labels\\\\train','initial_image\\\\label_train_seed')"
   ]
  },
  {
   "cell_type": "markdown",
   "metadata": {},
   "source": [
    "## 合成文件夹"
   ]
  },
  {
   "cell_type": "code",
   "execution_count": null,
   "metadata": {},
   "outputs": [],
   "source": [
    "from compound import compound\n",
    "compound('initial_image\\\\label_train_seed','initial_image\\\\image_test\\\\txt')"
   ]
  }
 ],
 "metadata": {
  "kernelspec": {
   "display_name": "Python 3",
   "language": "python",
   "name": "python3"
  },
  "language_info": {
   "codemirror_mode": {
    "name": "ipython",
    "version": 3
   },
   "file_extension": ".py",
   "mimetype": "text/x-python",
   "name": "python",
   "nbconvert_exporter": "python",
   "pygments_lexer": "ipython3",
   "version": "3.8.0"
  }
 },
 "nbformat": 4,
 "nbformat_minor": 2
}
